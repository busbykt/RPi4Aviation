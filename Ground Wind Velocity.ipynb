{
 "cells": [
  {
   "cell_type": "markdown",
   "metadata": {},
   "source": [
    "# Introduction\n",
    "\n",
    "This notebook explores the potential to calculate wind speed and direction on the ground from a vehicle in flight.\n",
    "\n",
    "The **primary application** focus is to gather magnitude and direction of the wind on the ground from a fixed wing aircraft preparing to land.\n",
    "\n",
    "Generally it is wise to take off and land both facing into the wind. This minimizes the amount of kinetic energy one carries relative to the ground. \n",
    "\n",
    "$$Kinetic Energy =\\frac{1}{2}mass * velocity^{2}$$\n",
    "\n",
    "The less energy, the safer aircraft operations close to the ground generally are. In addition to reduced kinetic energy, it also allows for shorter takeoff and landing distances. Which can be incredibly useful when operating out of unimproved runways or in the backcountry."
   ]
  },
  {
   "cell_type": "markdown",
   "metadata": {},
   "source": [
    "# Theory\n",
    "\n",
    "Determining the wind direction and speed on the ground while in the air amounts to separating:\n",
    "1. Air moving relative to the aircraft\n",
    "2. Air moving relative to the ground\n",
    "\n",
    "This is tricky because the only measurable air while in flight, is the air relative to the aircraft. There are other quantites to measure though, like position, that may be useful to compare to measurements of the air to try and understand the wind velocity on the ground.\n",
    "\n",
    "### Initial Idea\n",
    "\n",
    "My first thought is to measure the dynamic pressure via static pressure and total pressure measurements at the aircraft then subtract it from the ground speed measured using GPS. Direction can be gathered from the GPS data. This results in a vector that gives the difference between the ground and air velocities in every direction measured. If this is done in a full circle, it may provide enough information to calculate the wind speed and direction on the ground."
   ]
  },
  {
   "cell_type": "code",
   "execution_count": 8,
   "metadata": {},
   "outputs": [],
   "source": [
    "import numpy as np\n",
    "import pandas as pd"
   ]
  },
  {
   "cell_type": "code",
   "execution_count": 1,
   "metadata": {
    "scrolled": true
   },
   "outputs": [],
   "source": [
    "ias = [100,110,100,90]"
   ]
  },
  {
   "cell_type": "markdown",
   "metadata": {},
   "source": [
    "### Airspeed\n",
    "\n",
    "Airspeed measured at the aircraft is called IAS or indicated airspeed. This speed represents the dynamic pressure, Or the difference between total pressure and static pressure. Read about it here: https://en.wikipedia.org/wiki/Indicated_airspeed\n",
    "\n",
    "Unfortunately indicated airspeed is not the same as true airspeed. So I will not be able to get a true airspeed reading using only dynamic pressure.\n"
   ]
  },
  {
   "cell_type": "code",
   "execution_count": null,
   "metadata": {},
   "outputs": [],
   "source": []
  },
  {
   "cell_type": "code",
   "execution_count": null,
   "metadata": {},
   "outputs": [],
   "source": []
  },
  {
   "cell_type": "code",
   "execution_count": null,
   "metadata": {},
   "outputs": [],
   "source": []
  },
  {
   "cell_type": "code",
   "execution_count": null,
   "metadata": {},
   "outputs": [],
   "source": []
  },
  {
   "cell_type": "code",
   "execution_count": null,
   "metadata": {},
   "outputs": [],
   "source": []
  },
  {
   "cell_type": "code",
   "execution_count": null,
   "metadata": {},
   "outputs": [],
   "source": []
  }
 ],
 "metadata": {
  "kernelspec": {
   "display_name": "Python 3",
   "language": "python",
   "name": "python3"
  },
  "language_info": {
   "codemirror_mode": {
    "name": "ipython",
    "version": 3
   },
   "file_extension": ".py",
   "mimetype": "text/x-python",
   "name": "python",
   "nbconvert_exporter": "python",
   "pygments_lexer": "ipython3",
   "version": "3.7.3"
  }
 },
 "nbformat": 4,
 "nbformat_minor": 2
}
